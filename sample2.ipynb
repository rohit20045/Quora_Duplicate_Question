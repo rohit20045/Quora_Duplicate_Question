{
 "cells": [
  {
   "cell_type": "code",
   "execution_count": 25,
   "metadata": {},
   "outputs": [],
   "source": [
    "import pandas as pd\n",
    "import re\n",
    "from fuzzywuzzy import fuzz\n",
    "import matplotlib.pyplot as plt\n",
    "import xgboost as xgb\n",
    "from sklearn.model_selection import train_test_split\n",
    "from sklearn.metrics import accuracy_score, classification_report, confusion_matrix\n",
    "import matplotlib.pyplot as plt\n",
    "import seaborn as sns\n",
    "import joblib\n",
    "from sklearn.model_selection import GridSearchCV\n",
    "from xgboost import XGBClassifier\n",
    "import torch\n",
    "from xgboost import set_config\n",
    "import cupy as cp"
   ]
  },
  {
   "cell_type": "code",
   "execution_count": 4,
   "metadata": {},
   "outputs": [],
   "source": [
    "import nltk\n",
    "from nltk.tokenize import word_tokenize\n",
    "from nltk.stem import WordNetLemmatizer"
   ]
  },
  {
   "cell_type": "markdown",
   "metadata": {},
   "source": [
    "#### Importing the train csv file contaning the quesitons"
   ]
  },
  {
   "cell_type": "code",
   "execution_count": 32,
   "metadata": {},
   "outputs": [],
   "source": [
    "df = pd.read_csv('data/train.csv')"
   ]
  },
  {
   "cell_type": "code",
   "execution_count": 33,
   "metadata": {},
   "outputs": [
    {
     "name": "stdout",
     "output_type": "stream",
     "text": [
      "<bound method NDFrame.head of             id    qid1    qid2  \\\n",
      "0            0       1       2   \n",
      "1            1       3       4   \n",
      "2            2       5       6   \n",
      "3            3       7       8   \n",
      "4            4       9      10   \n",
      "...        ...     ...     ...   \n",
      "404285  404285  433578  379845   \n",
      "404286  404286   18840  155606   \n",
      "404287  404287  537928  537929   \n",
      "404288  404288  537930  537931   \n",
      "404289  404289  537932  537933   \n",
      "\n",
      "                                                question1  \\\n",
      "0       What is the step by step guide to invest in sh...   \n",
      "1       What is the story of Kohinoor (Koh-i-Noor) Dia...   \n",
      "2       How can I increase the speed of my internet co...   \n",
      "3       Why am I mentally very lonely? How can I solve...   \n",
      "4       Which one dissolve in water quikly sugar, salt...   \n",
      "...                                                   ...   \n",
      "404285  How many keywords are there in the Racket prog...   \n",
      "404286          Do you believe there is life after death?   \n",
      "404287                                  What is one coin?   \n",
      "404288  What is the approx annual cost of living while...   \n",
      "404289              What is like to have sex with cousin?   \n",
      "\n",
      "                                                question2  is_duplicate  \n",
      "0       What is the step by step guide to invest in sh...             0  \n",
      "1       What would happen if the Indian government sto...             0  \n",
      "2       How can Internet speed be increased by hacking...             0  \n",
      "3       Find the remainder when [math]23^{24}[/math] i...             0  \n",
      "4                 Which fish would survive in salt water?             0  \n",
      "...                                                   ...           ...  \n",
      "404285  How many keywords are there in PERL Programmin...             0  \n",
      "404286         Is it true that there is life after death?             1  \n",
      "404287                                  What's this coin?             0  \n",
      "404288  I am having little hairfall problem but I want...             0  \n",
      "404289      What is it like to have sex with your cousin?             0  \n",
      "\n",
      "[404290 rows x 6 columns]>\n"
     ]
    }
   ],
   "source": [
    "print(df.head)"
   ]
  },
  {
   "cell_type": "code",
   "execution_count": 34,
   "metadata": {},
   "outputs": [
    {
     "name": "stdout",
     "output_type": "stream",
     "text": [
      "['id', 'qid1', 'qid2', 'question1', 'question2', 'is_duplicate']\n"
     ]
    }
   ],
   "source": [
    "print(df.columns.tolist())"
   ]
  },
  {
   "cell_type": "markdown",
   "metadata": {},
   "source": [
    "### Data Information"
   ]
  },
  {
   "cell_type": "code",
   "execution_count": 35,
   "metadata": {},
   "outputs": [
    {
     "name": "stdout",
     "output_type": "stream",
     "text": [
      "Number of positive labels: 149263\n",
      "Number of negative labels: 255027\n",
      "Total number of labels: 404290\n",
      "Positive % =  36.9197853026293\n",
      "Negative % =  63.08021469737069\n"
     ]
    },
    {
     "data": {
      "image/png": "[encoded data removed]",
      "text/plain": [
       "<Figure size 800x600 with 1 Axes>"
      ]
     },
     "metadata": {},
     "output_type": "display_data"
    }
   ],
   "source": [
    "# Count the number of positive and negative labels\n",
    "pos_count = df['is_duplicate'].sum()\n",
    "neg_count = len(df) - pos_count\n",
    "total_count = len(df)\n",
    "\n",
    "# Print counts\n",
    "print(\"Number of positive labels:\", pos_count)\n",
    "print(\"Number of negative labels:\", neg_count)\n",
    "print(\"Total number of labels:\", total_count)\n",
    "\n",
    "print(\"Positive % = \",pos_count/total_count * 100)\n",
    "print(\"Negative % = \",neg_count/total_count * 100)\n",
    "# Create a bar plot\n",
    "plt.figure(figsize=(8, 6))\n",
    "plt.bar(['Positive', 'Negative'], [pos_count, neg_count], color=['blue', 'red'])\n",
    "plt.xlabel('Class')\n",
    "plt.ylabel('Count')\n",
    "plt.title('Number of Positive and Negative Labels')\n",
    "plt.show()\n"
   ]
  },
  {
   "cell_type": "markdown",
   "metadata": {},
   "source": [
    "### Words for finding similarities"
   ]
  },
  {
   "cell_type": "code",
   "execution_count": 36,
   "metadata": {},
   "outputs": [],
   "source": [
    "common_words = {\n",
    "\n",
    "    # Prepositions\n",
    "    'in', 'on', 'at',\n",
    "    'of', 'to', 'for', 'with',\n",
    "    'by', 'from', 'about',\n",
    "    'into', 'onto', 'upon',\n",
    "    'within', 'without',\n",
    "\n",
    "    # Articles\n",
    "    'a', 'an', 'the',\n",
    "\n",
    "    # Conjunctions\n",
    "    'and', 'or', 'but',\n",
    "    'so', 'yet', 'nor',\n",
    "    'for',\n",
    "\n",
    "    # Helping Verbs\n",
    "    'am', 'is', 'are',\n",
    "    'was', 'were',\n",
    "    'be', 'been',\n",
    "    'have', 'has', 'had',\n",
    "    'do', 'does', 'did',\n",
    "    'can', 'could',\n",
    "    'will', 'would',\n",
    "    'shall', 'should',\n",
    "    'may', 'might',\n",
    "    'must',\n",
    "\n",
    "    # Common Pronouns\n",
    "    'i', 'you', 'he', 'she', 'it', 'we', 'they',\n",
    "    'me', 'him', 'her', 'us', 'them',\n",
    "    'my', 'your', 'his', 'her', 'its', 'our', 'their',\n",
    "    'mine', 'yours', 'hers', 'ours', 'theirs',\n",
    "    'this', 'that', 'these', 'those',\n",
    "\n",
    "    # Common Adverbs\n",
    "    'now', 'then',\n",
    "    'here', 'there',\n",
    "    'quickly', 'slowly',\n",
    "    'very', 'too',\n",
    "    \n",
    "    # Quantifier\n",
    "    \"all\", \"some\", \"any\", \"no\", \"few\", \"many\", \"several\", \"much\", \"most\", \n",
    "    \"more\", \"less\", \"little\", \"a lot of\", \"a few\", \"a little\", \"enough\", \n",
    "    \"lots of\", \"plenty of\", \"each\", \"every\", \"either\", \"neither\", \"both\", \"none\"\n",
    "}\n",
    "\n",
    "interogative_words = {\"what\", \"how\", \"why\", \"when\", \"where\", \"which\", \"who\", \"whom\", \"whose\"}\n",
    "\n",
    "extra_intero_words ={\"are\", \"is\", \"am\", \"was\", \"were\", \"do\", \"does\", \"did\", \"can\", \"could\",\n",
    "                      \"will\", \"would\", \"shall\", \"should\", \"have\", \"has\", \"had\"}\n",
    "                    "
   ]
  },
  {
   "cell_type": "markdown",
   "metadata": {},
   "source": [
    "#### Function to find Fuzz ratio - Compare two strings and find their similarities"
   ]
  },
  {
   "cell_type": "code",
   "execution_count": 37,
   "metadata": {},
   "outputs": [],
   "source": [
    "def unique_word_out(text1,text2,unique_word_set):\n",
    "    words = re.findall(r'\\b\\w+\\b', text1.lower())\n",
    "    \n",
    "    uni_text1 = \"\"\n",
    "    for word in words:\n",
    "        if word in unique_word_set:\n",
    "            uni_text1+=word+' '\n",
    "    \n",
    "    words = re.findall(r'\\b\\w+\\b', text2.lower())\n",
    "    uni_text2 = \"\"\n",
    "    for word in words:\n",
    "        if word in unique_word_set:\n",
    "            uni_text2+=word+' '\n",
    "    \n",
    "    return fuzz.ratio(uni_text1, uni_text2)"
   ]
  },
  {
   "cell_type": "code",
   "execution_count": 38,
   "metadata": {},
   "outputs": [],
   "source": [
    "def singularize_words(sentence):\n",
    "    tokens = word_tokenize(sentence)\n",
    "    lemmatizer = WordNetLemmatizer()\n",
    "    singularized_sentence = []\n",
    "\n",
    "    for word in tokens:\n",
    "        # Exclude words that are already singular or not nouns or ending with \"ing\"\n",
    "        if word.lower() in [\"is\", \"am\", \"are\", \"was\", \"were\", \"has\", \"have\", \"had\", \"does\", \"do\", \"did\"]:\n",
    "            singularized_sentence.append(word)\n",
    "        else:\n",
    "            singularized_word = lemmatizer.lemmatize(word)\n",
    "            singularized_sentence.append(singularized_word)\n",
    "    return singularized_sentence"
   ]
  },
  {
   "cell_type": "markdown",
   "metadata": {},
   "source": [
    "#### Function to find features for model"
   ]
  },
  {
   "cell_type": "code",
   "execution_count": 45,
   "metadata": {},
   "outputs": [],
   "source": [
    "\n",
    "\n",
    "def preprocess_data(text1,text2,output):\n",
    "    \n",
    "    q1_cc=0\n",
    "    q1_uc =0\n",
    "    q1_ic =0\n",
    "\n",
    "        \n",
    "    q2_cc=0\n",
    "    q2_uc =0\n",
    "    q2_ic =0\n",
    "\n",
    "    q1_common = []\n",
    "    q1_unique = []\n",
    "    q1_intero = []\n",
    "    \n",
    "    \n",
    "    q2_common = []\n",
    "    q2_unique = []\n",
    "    q2_intero = []\n",
    "    \n",
    "    text1 = str(text1)\n",
    "    text2 = str(text2)\n",
    "    # Remove punctuation and split the text into words\n",
    "    \n",
    "    words1 = re.findall(r'\\b\\w+\\b', text1.lower())\n",
    "    words2 = re.findall(r'\\b\\w+\\b', text2.lower())\n",
    "    \n",
    "    str1=\"\"\n",
    "    str2=\"\"\n",
    "    for word in words1:\n",
    "        str1+=word+\" \"\n",
    "        \n",
    "    str1=str1.strip()\n",
    "    \n",
    "    for word in words2:\n",
    "        str2+=word+\" \"\n",
    "        \n",
    "    str2=str2.strip()\n",
    "    \n",
    "    words1 = singularize_words(str1)\n",
    "    words2 = singularize_words(str2)\n",
    "\n",
    "    # print(words1)\n",
    "    # print(words2)\n",
    "    \n",
    "    # Check if the first word is an extra interrogative word\n",
    "    if words1 and words1[0] in extra_intero_words:\n",
    "        q1_intero.append(words1[0])\n",
    "        words1 = words1[1:]\n",
    "    \n",
    "    for word in words1:\n",
    "        if word in common_words:\n",
    "            q1_common.append(word)\n",
    "        elif word in interogative_words:\n",
    "            q1_intero.append(word)\n",
    "        else:\n",
    "            q1_unique.append(word)\n",
    "  \n",
    "  \n",
    "     # Check if the second word is an extra interrogative word\n",
    "    if words2 and words2[0] in extra_intero_words:\n",
    "        q2_intero.append(words2[0])\n",
    "        words2 = words2[1:]\n",
    "    \n",
    "    for word in words2:\n",
    "        if word in common_words:\n",
    "            q2_common.append(word)\n",
    "        elif word in interogative_words:\n",
    "            q2_intero.append(word)\n",
    "        else:\n",
    "            q2_unique.append(word)\n",
    "  \n",
    "    q1_cl = len(q1_common)\n",
    "    q1_ul = len(q1_unique)\n",
    "    q1_il = len(q1_intero)\n",
    "    \n",
    "    q2_cl = len(q2_common)\n",
    "    q2_ul = len(q2_unique)\n",
    "    q2_il = len(q2_intero)\n",
    "    \n",
    "    \n",
    "    \n",
    "    tempc = q2_common.copy()\n",
    "    tempu = q2_unique.copy()\n",
    "    tempi = q2_intero.copy()\n",
    "    \n",
    "    for word in q1_common:\n",
    "        if word in tempc:\n",
    "            q1_cc+=1\n",
    "            tempc.remove(word)\n",
    "    \n",
    "    for word in q1_unique:\n",
    "        if word in tempu:\n",
    "            q1_uc+=1\n",
    "            tempu.remove(word)\n",
    "    \n",
    "    for word in q1_intero:\n",
    "        if word in tempi:\n",
    "            q1_ic+=1\n",
    "            tempi.remove(word)\n",
    "    \n",
    "    \n",
    "    tempc = q1_common.copy()\n",
    "    tempu = q1_unique.copy()\n",
    "    tempi = q1_intero.copy()\n",
    "\n",
    "    for word in q2_common:\n",
    "        if word in tempc:\n",
    "            q2_cc+=1\n",
    "            tempc.remove(word)\n",
    "    \n",
    "    for word in q2_unique:\n",
    "        if word in tempu:\n",
    "            q2_uc+=1\n",
    "            tempu.remove(word)\n",
    "    \n",
    "    for word in q2_intero:\n",
    "        if word in tempi:\n",
    "            q2_ic+=1\n",
    "            tempi.remove(word)\n",
    "            \n",
    "    unique_set = set()\n",
    "    \n",
    "    \n",
    "    for word in q1_unique:\n",
    "        unique_set.add(word)\n",
    "    \n",
    "    for word in q2_unique:\n",
    "        unique_set.add(word)\n",
    "    \n",
    "    fuzzy_ratio=unique_word_out(text1,text2,unique_set)\n",
    "    \n",
    "    if(q1_cl==0):\n",
    "        q1_cl=1\n",
    "    if(q1_ul==0):\n",
    "        q1_ul=1\n",
    "    if(q1_il==0):\n",
    "        q1_il=1\n",
    "    if(q2_cl==0):\n",
    "        q2_cl=1\n",
    "    if(q2_ul==0):\n",
    "        q2_ul=1\n",
    "    if(q2_il==0):\n",
    "        q2_il=1\n",
    "\n",
    "    return q1_cc/q1_cl,q1_uc/q1_ul,q1_ic/q1_il,q2_cc/q2_cl,q2_uc/q2_ul,q2_ic/q2_il,fuzzy_ratio/100.0,output\n"
   ]
  },
  {
   "cell_type": "markdown",
   "metadata": {},
   "source": [
    "##### Processing each string and storing features"
   ]
  },
  {
   "cell_type": "code",
   "execution_count": 47,
   "metadata": {},
   "outputs": [],
   "source": [
    "features_list = []\n",
    "label = []\n",
    "for index, row in df.iterrows():\n",
    "    question1 = row[\"question1\"]\n",
    "    question2 = row[\"question2\"]\n",
    "    output = row[\"is_duplicate\"]\n",
    "    features = preprocess_data(question1, question2,output)\n",
    "    features_list.append(features)"
   ]
  },
  {
   "cell_type": "code",
   "execution_count": 48,
   "metadata": {},
   "outputs": [],
   "source": [
    "features_df = pd.DataFrame(features_list,columns=[\"q1_c\",\"q1_u\",\"q1_i\", \"q2_c\",\"q2_u\",\"q2_i\",\"fuzzy_ratio\",\"label\"])"
   ]
  },
  {
   "cell_type": "code",
   "execution_count": 49,
   "metadata": {},
   "outputs": [
    {
     "name": "stdout",
     "output_type": "stream",
     "text": [
      "(0.8333333333333334, 0.8571428571428571, 1.0, 1.0, 1.0, 1.0, 0.92, 0)\n",
      "(0.5, 0.8, 1.0, 0.5, 0.4, 1.0, 0.62, 0)\n",
      "(0.16666666666666666, 0.2857142857142857, 1.0, 0.3333333333333333, 0.3333333333333333, 1.0, 0.54, 0)\n",
      "(0.0, 0.0, 0.0, 0.0, 0.0, 0.0, 0.24, 0)\n",
      "(0.5, 0.2, 1.0, 0.5, 0.5, 1.0, 0.38, 0)\n",
      "(0.75, 0.5, 1.0, 0.75, 0.5, 1.0, 0.68, 1)\n",
      "(0.0, 0.0, 0.0, 0.0, 0.0, 0.0, 0.29, 0)\n",
      "(0.75, 0.5, 0.0, 0.5, 0.5, 0.0, 0.77, 1)\n",
      "(1.0, 0.5, 1.0, 0.75, 1.0, 1.0, 0.86, 0)\n",
      "(0.3333333333333333, 0.5, 0.0, 0.3333333333333333, 0.6, 0.0, 0.52, 0)\n"
     ]
    }
   ],
   "source": [
    "for i in range(0,10):\n",
    "    print(features_list[i])\n",
    "    "
   ]
  },
  {
   "cell_type": "code",
   "execution_count": 50,
   "metadata": {},
   "outputs": [],
   "source": [
    "features_df.to_csv('data/features2.csv', index=False)"
   ]
  },
  {
   "cell_type": "code",
   "execution_count": 5,
   "metadata": {},
   "outputs": [],
   "source": [
    "features_df = pd.read_csv('data/features2.csv')\n",
    "\n",
    "# Separate features and labels\n",
    "x_train = features_df.drop('label', axis=1).values  # Exclude the 'label' column\n",
    "y_train = features_df['label']\n",
    "\n",
    "\n",
    "# Optionally, you can convert y_train to a numpy array if needed\n",
    "y_train = y_train.values"
   ]
  },
  {
   "cell_type": "code",
   "execution_count": 29,
   "metadata": {},
   "outputs": [],
   "source": [
    "import numpy as np"
   ]
  },
  {
   "cell_type": "code",
   "execution_count": 32,
   "metadata": {},
   "outputs": [],
   "source": [
    "x_train = np.array(x_train)\n",
    "y_train = np.array(y_train)"
   ]
  },
  {
   "cell_type": "code",
   "execution_count": 33,
   "metadata": {},
   "outputs": [
    {
     "name": "stdout",
     "output_type": "stream",
     "text": [
      "<class 'numpy.ndarray'>\n",
      "<class 'numpy.ndarray'>\n"
     ]
    }
   ],
   "source": [
    "print(type(x_train))\n",
    "print(type(y_train))"
   ]
  },
  {
   "cell_type": "code",
   "execution_count": 34,
   "metadata": {},
   "outputs": [
    {
     "name": "stdout",
     "output_type": "stream",
     "text": [
      "[0.         0.33333333 0.         0.         0.66666667 0.\n",
      " 0.48      ] \t 0\n",
      "[0.6        0.625      0.         0.42857143 0.71428571 0.\n",
      " 0.77      ] \t 0\n",
      "[0.33333333 0.33333333 0.         0.16666667 0.4        0.\n",
      " 0.47      ] \t 0\n",
      "[1.   0.8  1.   1.   0.8  1.   0.99] \t 1\n",
      "[0.25       0.4        0.         0.33333333 0.66666667 0.\n",
      " 0.79      ] \t 1\n",
      "[0.         0.5        0.         0.         0.16666667 0.\n",
      " 0.57      ] \t 0\n",
      "[0.75       1.         1.         1.         0.66666667 1.\n",
      " 0.78      ] \t 1\n",
      "[1.   0.75 1.   1.   0.75 1.   0.56] \t 1\n",
      "[1.   0.75 1.   1.   0.75 1.   0.66] \t 0\n",
      "[0.75 0.5  1.   1.   0.75 1.   0.68] \t 0\n"
     ]
    }
   ],
   "source": [
    "for i in range(0,10):\n",
    "    print(x_train[i],\"\\t\",y_train[i])"
   ]
  },
  {
   "cell_type": "markdown",
   "metadata": {},
   "source": [
    "##### Spliting the data for training and testing"
   ]
  },
  {
   "cell_type": "code",
   "execution_count": 35,
   "metadata": {},
   "outputs": [],
   "source": [
    "# Split the data into training and testing sets\n",
    "x_train, x_test, y_train, y_test = train_test_split(x_train, y_train, test_size=0.2, random_state=4242)"
   ]
  },
  {
   "cell_type": "code",
   "execution_count": 36,
   "metadata": {},
   "outputs": [
    {
     "name": "stdout",
     "output_type": "stream",
     "text": [
      "<class 'numpy.ndarray'>\n",
      "<class 'numpy.ndarray'>\n"
     ]
    }
   ],
   "source": [
    "print(type(x_test))\n",
    "print(type(y_test))"
   ]
  },
  {
   "cell_type": "markdown",
   "metadata": {},
   "source": [
    "#### Using GridSearch to find best parameters "
   ]
  },
  {
   "cell_type": "code",
   "execution_count": 18,
   "metadata": {},
   "outputs": [],
   "source": [
    "# params = { 'max_depth': [6,8,10],\n",
    "#            'learning_rate': [0.01, 0.05, 0.1],\n",
    "#            'n_estimators': [300, 500, 800],\n",
    "#            'colsample_bytree': [0.5, 0.7,0.9],\n",
    "#            'subsample': [0.6,0.8]}\n",
    "# xgbr = xgb.XGBClassifier(random_state=42,device=\"cuda\")\n",
    "# clf = GridSearchCV(estimator=xgbr, \n",
    "#                    param_grid=params,\n",
    "#                    scoring='accuracy', \n",
    "#                    verbose=1)\n",
    "# clf.fit(x_train, y_train)\n",
    "# print(\"Best parameters:\", clf.best_params_)\n",
    "# print(\"Lowest RMSE: \", (-clf.best_score_)**(1/2.0))"
   ]
  },
  {
   "cell_type": "markdown",
   "metadata": {},
   "source": [
    "##### Training the model on our parameters"
   ]
  },
  {
   "cell_type": "code",
   "execution_count": 37,
   "metadata": {},
   "outputs": [],
   "source": [
    "# Train the model\n",
    "num_rounds = 1000\n",
    "#classifier = XGBClassifier(eta=0.01, device=\"cuda\", max_depth=10,subsample= 0.6, colsample_bytree= 0.9,n_estimators=num_rounds)\n",
    "classifier = XGBClassifier(eta=0.01, max_depth=10,subsample= 0.6, colsample_bytree= 0.9,n_estimators=num_rounds)\n",
    "# Train the model\n",
    "#model = classifier.fit(cp.array(x_train), y_train)\n",
    "model = classifier.fit(x_train, y_train)"
   ]
  },
  {
   "cell_type": "markdown",
   "metadata": {},
   "source": [
    "##### Printing the Classification Report"
   ]
  },
  {
   "cell_type": "code",
   "execution_count": 38,
   "metadata": {},
   "outputs": [
    {
     "name": "stdout",
     "output_type": "stream",
     "text": [
      "              precision    recall  f1-score   support\n",
      "\n",
      "           0       0.79      0.77      0.78     32795\n",
      "           1       0.62      0.65      0.64     18954\n",
      "\n",
      "    accuracy                           0.73     51749\n",
      "   macro avg       0.71      0.71      0.71     51749\n",
      "weighted avg       0.73      0.73      0.73     51749\n",
      "\n"
     ]
    }
   ],
   "source": [
    "predictions = model.predict(x_test)\n",
    "classification = classification_report(y_test, predictions)\n",
    "print(classification)"
   ]
  },
  {
   "cell_type": "code",
   "execution_count": 18,
   "metadata": {},
   "outputs": [
    {
     "name": "stdout",
     "output_type": "stream",
     "text": [
      "Accuracy: 0.7280541195676371\n",
      "Classification Report:\n",
      "              precision    recall  f1-score   support\n",
      "\n",
      "           0       0.79      0.77      0.78     50985\n",
      "           1       0.63      0.65      0.64     29873\n",
      "\n",
      "    accuracy                           0.73     80858\n",
      "   macro avg       0.71      0.71      0.71     80858\n",
      "weighted avg       0.73      0.73      0.73     80858\n",
      "\n"
     ]
    },
    {
     "data": {
      "image/png": "[encoded data removed]",
      "text/plain": [
       "<Figure size 640x480 with 2 Axes>"
      ]
     },
     "metadata": {},
     "output_type": "display_data"
    }
   ],
   "source": [
    "# Make predictions on the test data\n",
    "y_pred = model.predict(x_test)\n",
    "y_pred_binary = [1 if pred > 0.6 else 0 for pred in y_pred]\n",
    "\n",
    "# Calculate accuracy\n",
    "accuracy = accuracy_score(y_test, y_pred_binary)\n",
    "print(\"Accuracy:\", accuracy)\n",
    "\n",
    "# Print classification report\n",
    "print(\"Classification Report:\")\n",
    "print(classification_report(y_test, y_pred_binary))\n",
    "\n",
    "# Plot confusion matrix\n",
    "cm = confusion_matrix(y_test, y_pred_binary)\n",
    "sns.heatmap(cm, annot=True, cmap='Blues', fmt='d', xticklabels=['Predicted Negative', 'Predicted Positive'],\n",
    "            yticklabels=['Actual Negative', 'Actual Positive'])\n",
    "plt.xlabel('Predicted Label')\n",
    "plt.ylabel('True Label')\n",
    "plt.title('Confusion Matrix')\n",
    "plt.show()"
   ]
  },
  {
   "cell_type": "code",
   "execution_count": 39,
   "metadata": {},
   "outputs": [
    {
     "data": {
      "text/plain": [
       "['xgboost_model1.pkl']"
      ]
     },
     "execution_count": 39,
     "metadata": {},
     "output_type": "execute_result"
    }
   ],
   "source": [
    "# Save the model\n",
    "joblib.dump(model, 'xgboost_model1.pkl')"
   ]
  }
 ],
 "metadata": {
  "kernelspec": {
   "display_name": "tf",
   "language": "python",
   "name": "python3"
  },
  "language_info": {
   "codemirror_mode": {
    "name": "ipython",
    "version": 3
   },
   "file_extension": ".py",
   "mimetype": "text/x-python",
   "name": "python",
   "nbconvert_exporter": "python",
   "pygments_lexer": "ipython3",
   "version": "3.9.18"
  }
 },
 "nbformat": 4,
 "nbformat_minor": 2
}
