{
 "cells": [
  {
   "cell_type": "code",
   "execution_count": 2,
   "metadata": {},
   "outputs": [],
   "source": [
    "import pandas as pd\n",
    "import re\n",
    "from fuzzywuzzy import fuzz\n",
    "import matplotlib.pyplot as plt\n",
    "from sklearn.metrics import accuracy_score, classification_report, confusion_matrix\n",
    "from xgboost import XGBClassifier\n",
    "import joblib\n",
    "import seaborn as sns"
   ]
  },
  {
   "cell_type": "code",
   "execution_count": 3,
   "metadata": {},
   "outputs": [],
   "source": [
    "import nltk\n",
    "from nltk.tokenize import word_tokenize\n",
    "from nltk.stem import WordNetLemmatizer"
   ]
  },
  {
   "cell_type": "code",
   "execution_count": 2,
   "metadata": {},
   "outputs": [],
   "source": [
    "df1 = pd.read_csv('data/sample_submission.csv')\n",
    "df2 = pd.read_csv('data/test.csv')"
   ]
  },
  {
   "cell_type": "code",
   "execution_count": 3,
   "metadata": {},
   "outputs": [
    {
     "name": "stdout",
     "output_type": "stream",
     "text": [
      "['test_id', 'is_duplicate']\n",
      "['test_id', 'question1', 'question2']\n"
     ]
    }
   ],
   "source": [
    "print(df1.columns.tolist())\n",
    "print(df2.columns.tolist())"
   ]
  },
  {
   "cell_type": "code",
   "execution_count": 4,
   "metadata": {},
   "outputs": [],
   "source": [
    "common_words = {\n",
    "    # Punctuation\n",
    "    '.', ',', '!', '?', ';', ':', '\"', \"'\", '-', '...', '(', ')', '[', ']', '{', '}',\n",
    "\n",
    "    # Prepositions\n",
    "    'in', 'on', 'at',\n",
    "    'of', 'to', 'for', 'with',\n",
    "    'by', 'from', 'about',\n",
    "    'into', 'onto', 'upon',\n",
    "    'within', 'without',\n",
    "\n",
    "    # Articles\n",
    "    'a', 'an', 'the',\n",
    "\n",
    "    # Conjunctions\n",
    "    'and', 'or', 'but',\n",
    "    'so', 'yet', 'nor',\n",
    "    'for',\n",
    "\n",
    "    # Helping Verbs\n",
    "    'am', 'is', 'are',\n",
    "    'was', 'were',\n",
    "    'be', 'been',\n",
    "    'have', 'has', 'had',\n",
    "    'do', 'does', 'did',\n",
    "    'can', 'could',\n",
    "    'will', 'would',\n",
    "    'shall', 'should',\n",
    "    'may', 'might',\n",
    "    'must',\n",
    "\n",
    "    # Common Pronouns\n",
    "    'i', 'you', 'he', 'she', 'it', 'we', 'they',\n",
    "    'me', 'him', 'her', 'us', 'them',\n",
    "    'my', 'your', 'his', 'her', 'its', 'our', 'their',\n",
    "    'mine', 'yours', 'hers', 'ours', 'theirs',\n",
    "    'this', 'that', 'these', 'those',\n",
    "\n",
    "    # Common Adverbs\n",
    "    'now', 'then',\n",
    "    'here', 'there',\n",
    "    'quickly', 'slowly',\n",
    "    'very', 'too',\n",
    "    \n",
    "    # Quantifier\n",
    "    \"all\", \"some\", \"any\", \"no\", \"few\", \"many\", \"several\", \"much\", \"most\", \n",
    "    \"more\", \"less\", \"little\", \"a lot of\", \"a few\", \"a little\", \"enough\", \n",
    "    \"lots of\", \"plenty of\", \"each\", \"every\", \"either\", \"neither\", \"both\", \"none\"\n",
    "}\n",
    "\n",
    "interogative_words = {\"what\", \"how\", \"why\", \"when\", \"where\", \"which\", \"who\", \"whom\", \"whose\"}\n",
    "\n",
    "extra_intero_words ={\"are\", \"is\", \"am\", \"was\", \"were\", \"do\", \"does\", \"did\", \"can\", \"could\",\n",
    "                      \"will\", \"would\", \"shall\", \"should\", \"have\", \"has\", \"had\"}"
   ]
  },
  {
   "cell_type": "code",
   "execution_count": 5,
   "metadata": {},
   "outputs": [],
   "source": [
    "def unique_word_out(text1,text2,unique_word_set):\n",
    "    words = re.findall(r'\\b\\w+\\b', text1.lower())\n",
    "    \n",
    "    uni_text1 = \"\"\n",
    "    for word in words:\n",
    "        if word in unique_word_set:\n",
    "            uni_text1+=word+' '\n",
    "    \n",
    "    words = re.findall(r'\\b\\w+\\b', text2.lower())\n",
    "    uni_text2 = \"\"\n",
    "    for word in words:\n",
    "        if word in unique_word_set:\n",
    "            uni_text2+=word+' '\n",
    "    \n",
    "    return fuzz.ratio(uni_text1, uni_text2)"
   ]
  },
  {
   "cell_type": "code",
   "execution_count": 8,
   "metadata": {},
   "outputs": [],
   "source": [
    "def singularize_words(sentence):\n",
    "    tokens = word_tokenize(sentence)\n",
    "    lemmatizer = WordNetLemmatizer()\n",
    "    singularized_sentence = []\n",
    "\n",
    "    for word in tokens:\n",
    "        # Exclude words that are already singular or not nouns or ending with \"ing\"\n",
    "        if word.lower() in [\"is\", \"am\", \"are\", \"was\", \"were\", \"has\", \"have\", \"had\", \"does\", \"do\", \"did\"]:\n",
    "            singularized_sentence.append(word)\n",
    "        else:\n",
    "            singularized_word = lemmatizer.lemmatize(word)\n",
    "            singularized_sentence.append(singularized_word)\n",
    "    return singularized_sentence"
   ]
  },
  {
   "cell_type": "code",
   "execution_count": 24,
   "metadata": {},
   "outputs": [],
   "source": [
    "def preprocess_data(text1,text2,output):\n",
    "    \n",
    "    q1_cc=0\n",
    "    q1_uc =0\n",
    "    q1_ic =0\n",
    "\n",
    "        \n",
    "    q2_cc=0\n",
    "    q2_uc =0\n",
    "    q2_ic =0\n",
    "\n",
    "    q1_common = []\n",
    "    q1_unique = []\n",
    "    q1_intero = []\n",
    "    \n",
    "    \n",
    "    q2_common = []\n",
    "    q2_unique = []\n",
    "    q2_intero = []\n",
    "    \n",
    "    text1 = str(text1)\n",
    "    text2 = str(text2)\n",
    "    # Remove punctuation and split the text into words\n",
    "    \n",
    "    words1 = re.findall(r'\\b\\w+\\b', text1.lower())\n",
    "    words2 = re.findall(r'\\b\\w+\\b', text2.lower())\n",
    "    \n",
    "    str1=\"\"\n",
    "    str2=\"\"\n",
    "    for word in words1:\n",
    "        str1+=word+\" \"\n",
    "        \n",
    "    str1=str1.strip()\n",
    "    \n",
    "    for word in words2:\n",
    "        str2+=word+\" \"\n",
    "        \n",
    "    str2=str2.strip()\n",
    "    \n",
    "    words1 = singularize_words(str1)\n",
    "    words2 = singularize_words(str2)\n",
    "\n",
    "    # print(words1)\n",
    "    # print(words2)\n",
    "    \n",
    "    # Check if the first word is an extra interrogative word\n",
    "    if words1 and words1[0] in extra_intero_words:\n",
    "        q1_intero.append(words1[0])\n",
    "        words1 = words1[1:]\n",
    "    \n",
    "    for word in words1:\n",
    "        if word in common_words:\n",
    "            q1_common.append(word)\n",
    "        elif word in interogative_words:\n",
    "            q1_intero.append(word)\n",
    "        else:\n",
    "            q1_unique.append(word)\n",
    "  \n",
    "  \n",
    "     # Check if the second word is an extra interrogative word\n",
    "    if words2 and words2[0] in extra_intero_words:\n",
    "        q2_intero.append(words2[0])\n",
    "        words2 = words2[1:]\n",
    "    \n",
    "    for word in words2:\n",
    "        if word in common_words:\n",
    "            q2_common.append(word)\n",
    "        elif word in interogative_words:\n",
    "            q2_intero.append(word)\n",
    "        else:\n",
    "            q2_unique.append(word)\n",
    "  \n",
    "    q1_cl = len(q1_common)\n",
    "    q1_ul = len(q1_unique)\n",
    "    q1_il = len(q1_intero)\n",
    "    \n",
    "    q2_cl = len(q2_common)\n",
    "    q2_ul = len(q2_unique)\n",
    "    q2_il = len(q2_intero)\n",
    "    \n",
    "    \n",
    "    \n",
    "    tempc = q2_common.copy()\n",
    "    tempu = q2_unique.copy()\n",
    "    tempi = q2_intero.copy()\n",
    "    \n",
    "    for word in q1_common:\n",
    "        if word in tempc:\n",
    "            q1_cc+=1\n",
    "            tempc.remove(word)\n",
    "    \n",
    "    for word in q1_unique:\n",
    "        if word in tempu:\n",
    "            q1_uc+=1\n",
    "            tempu.remove(word)\n",
    "    \n",
    "    for word in q1_intero:\n",
    "        if word in tempi:\n",
    "            q1_ic+=1\n",
    "            tempi.remove(word)\n",
    "    \n",
    "    \n",
    "    tempc = q1_common.copy()\n",
    "    tempu = q1_unique.copy()\n",
    "    tempi = q1_intero.copy()\n",
    "\n",
    "    for word in q2_common:\n",
    "        if word in tempc:\n",
    "            q2_cc+=1\n",
    "            tempc.remove(word)\n",
    "    \n",
    "    for word in q2_unique:\n",
    "        if word in tempu:\n",
    "            q2_uc+=1\n",
    "            tempu.remove(word)\n",
    "    \n",
    "    for word in q2_intero:\n",
    "        if word in tempi:\n",
    "            q2_ic+=1\n",
    "            tempi.remove(word)\n",
    "            \n",
    "    unique_set = set()\n",
    "    \n",
    "    \n",
    "    for word in q1_unique:\n",
    "        unique_set.add(word)\n",
    "    \n",
    "    for word in q2_unique:\n",
    "        unique_set.add(word)\n",
    "    \n",
    "    fuzzy_ratio=unique_word_out(text1,text2,unique_set)\n",
    "    \n",
    "    if(q1_cl==0):\n",
    "        q1_cl=1\n",
    "    if(q1_ul==0):\n",
    "        q1_ul=1\n",
    "    if(q1_il==0):\n",
    "        q1_il=1\n",
    "    if(q2_cl==0):\n",
    "        q2_cl=1\n",
    "    if(q2_ul==0):\n",
    "        q2_ul=1\n",
    "    if(q2_il==0):\n",
    "        q2_il=1\n",
    "\n",
    "    return q1_cc/q1_cl,q1_uc/q1_ul,q1_ic/q1_il,q2_cc/q2_cl,q2_uc/q2_ul,q2_ic/q2_il,fuzzy_ratio/100.0,output\n"
   ]
  },
  {
   "cell_type": "code",
   "execution_count": 21,
   "metadata": {},
   "outputs": [],
   "source": [
    "ques_arr1 = [(row[\"question1\"], row[\"question2\"]) for index, row in df2.iterrows()]\n",
    "label_arr1 = [row[\"is_duplicate\"] for index, row in df1.iterrows()]"
   ]
  },
  {
   "cell_type": "code",
   "execution_count": 25,
   "metadata": {},
   "outputs": [],
   "source": [
    "features_list = []\n",
    "for i in range(0, len(ques_arr1)):\n",
    "    ques = ques_arr1[i]\n",
    "    features = preprocess_data(ques_arr1[i][0], ques_arr1[i][1],label_arr1[i])\n",
    "    features_list.append(features)"
   ]
  },
  {
   "cell_type": "code",
   "execution_count": 26,
   "metadata": {},
   "outputs": [
    {
     "name": "stdout",
     "output_type": "stream",
     "text": [
      "('How does the Surface Pro himself 4 compare with iPad Pro?', 'Why did Microsoft choose core m3 and not core i3 home Surface Pro 4?') \t 1\n",
      "('Should I have a hair transplant at age 24? How much would it cost?', 'How much cost does hair transplant require?') \t 1\n",
      "('What but is the best way to send money from China to the US?', 'What you send money to China?') \t 1\n",
      "('Which food not emulsifiers?', 'What foods fibre?') \t 1\n",
      "('How \"aberystwyth\" start reading?', 'How their can I start reading?') \t 1\n",
      "('How are the two wheeler insurance from Bharti Axa insurance?', 'I admire I am considering of buying insurance from them') \t 1\n",
      "('How can I reduce my belly fat through a diet?', 'How can I reduce my lower belly fat in one month?') \t 1\n",
      "('By scrapping the 500 and 1000 rupee notes, how is RBI planning to fight against issue black money?', 'How will the recent move to declare 500 and 1000 denomination lewin illegal will curb black money?') \t 1\n",
      "('What are the how best books of all time?', 'What are some of the military history books of all time?') \t 1\n",
      "('After 12th years old boy and I had sex with a 12 years old girl, with her consent. Is there anything wrong?', 'Can a 14 old guy date a 12 year old girl?') \t 1\n"
     ]
    }
   ],
   "source": [
    "for i in range(0,10):\n",
    "    print(ques_arr1[i],\"\\t\",label_arr1[i])"
   ]
  },
  {
   "cell_type": "code",
   "execution_count": 27,
   "metadata": {},
   "outputs": [
    {
     "name": "stdout",
     "output_type": "stream",
     "text": [
      "(0.0, 0.42857142857142855, 0.0, 0.0, 0.2727272727272727, 0.0, 0.46, 1)\n",
      "(0.14285714285714285, 0.6, 0.5, 0.5, 0.75, 1.0, 0.63, 1)\n",
      "(0.14285714285714285, 0.5, 1.0, 0.5, 1.0, 1.0, 0.79, 1)\n",
      "(0.0, 0.3333333333333333, 0.0, 0.0, 0.5, 0.0, 0.27, 1)\n",
      "(0.0, 0.6666666666666666, 1.0, 0.0, 1.0, 1.0, 0.7, 1)\n",
      "(0.3333333333333333, 0.16666666666666666, 0.0, 0.16666666666666666, 0.25, 0.0, 0.51, 1)\n",
      "(0.75, 0.6, 1.0, 0.75, 0.5, 1.0, 0.67, 1)\n",
      "(0.6, 0.3333333333333333, 1.0, 0.6, 0.36363636363636365, 1.0, 0.52, 1)\n",
      "(1.0, 0.6666666666666666, 0.5, 0.6666666666666666, 0.5, 1.0, 0.5, 1)\n",
      "(0.1111111111111111, 0.38461538461538464, 0.0, 0.5, 0.625, 0.0, 0.48, 1)\n"
     ]
    }
   ],
   "source": [
    "for i in range(0,10):\n",
    "    print(features_list[i])"
   ]
  },
  {
   "cell_type": "code",
   "execution_count": 27,
   "metadata": {},
   "outputs": [
    {
     "ename": "NameError",
     "evalue": "name 'features_list' is not defined",
     "output_type": "error",
     "traceback": [
      "\u001b[1;31m---------------------------------------------------------------------------\u001b[0m",
      "\u001b[1;31mNameError\u001b[0m                                 Traceback (most recent call last)",
      "Cell \u001b[1;32mIn[27], line 1\u001b[0m\n\u001b[1;32m----> 1\u001b[0m features_df \u001b[38;5;241m=\u001b[39m pd\u001b[38;5;241m.\u001b[39mDataFrame(\u001b[43mfeatures_list\u001b[49m,columns\u001b[38;5;241m=\u001b[39m[\u001b[38;5;124m\"\u001b[39m\u001b[38;5;124mq1_c\u001b[39m\u001b[38;5;124m\"\u001b[39m,\u001b[38;5;124m\"\u001b[39m\u001b[38;5;124mq1_u\u001b[39m\u001b[38;5;124m\"\u001b[39m,\u001b[38;5;124m\"\u001b[39m\u001b[38;5;124mq1_i\u001b[39m\u001b[38;5;124m\"\u001b[39m, \u001b[38;5;124m\"\u001b[39m\u001b[38;5;124mq2_c\u001b[39m\u001b[38;5;124m\"\u001b[39m,\u001b[38;5;124m\"\u001b[39m\u001b[38;5;124mq2_u\u001b[39m\u001b[38;5;124m\"\u001b[39m,\u001b[38;5;124m\"\u001b[39m\u001b[38;5;124mq2_i\u001b[39m\u001b[38;5;124m\"\u001b[39m,\u001b[38;5;124m\"\u001b[39m\u001b[38;5;124mfuzzy_ratio\u001b[39m\u001b[38;5;124m\"\u001b[39m,\u001b[38;5;124m\"\u001b[39m\u001b[38;5;124mlabel\u001b[39m\u001b[38;5;124m\"\u001b[39m])\n",
      "\u001b[1;31mNameError\u001b[0m: name 'features_list' is not defined"
     ]
    }
   ],
   "source": [
    "features_df = pd.DataFrame(features_list,columns=[\"q1_c\",\"q1_u\",\"q1_i\", \"q2_c\",\"q2_u\",\"q2_i\",\"fuzzy_ratio\",\"label\"])"
   ]
  },
  {
   "cell_type": "code",
   "execution_count": 29,
   "metadata": {},
   "outputs": [],
   "source": [
    "#features_df.to_csv('data/features_test.csv', index=False)"
   ]
  },
  {
   "cell_type": "code",
   "execution_count": 40,
   "metadata": {},
   "outputs": [],
   "source": [
    "features_df = pd.read_csv('data/features_test.csv')\n",
    "\n",
    "# Separate features and labels\n",
    "x_test = features_df.drop('label', axis=1).values  # Exclude the 'label' column\n",
    "y_test = features_df['label']\n",
    "\n",
    "\n",
    "# Optionally, you can convert y_train to a numpy array if needed\n",
    "y_test = y_test.values"
   ]
  },
  {
   "cell_type": "code",
   "execution_count": 42,
   "metadata": {},
   "outputs": [
    {
     "name": "stdout",
     "output_type": "stream",
     "text": [
      "<class 'numpy.ndarray'>\n",
      "<class 'numpy.ndarray'>\n"
     ]
    }
   ],
   "source": [
    "print(type(x_test))\n",
    "print(type(y_test))"
   ]
  },
  {
   "cell_type": "code",
   "execution_count": 43,
   "metadata": {},
   "outputs": [
    {
     "name": "stdout",
     "output_type": "stream",
     "text": [
      "[[0.         0.42857143 0.         ... 0.27272727 0.         0.46      ]\n",
      " [0.14285714 0.6        0.5        ... 0.75       1.         0.63      ]\n",
      " [0.14285714 0.5        1.         ... 1.         1.         0.79      ]\n",
      " ...\n",
      " [0.         0.33333333 0.         ... 0.4        0.         0.46      ]\n",
      " [0.75       0.9        1.         ... 0.81818182 1.         0.81      ]\n",
      " [0.         0.4        0.         ... 0.4        0.         0.71      ]]\n",
      "[1 1 1 ... 1 1 1]\n"
     ]
    }
   ],
   "source": [
    "print(x_test)\n",
    "print(y_test)"
   ]
  },
  {
   "cell_type": "code",
   "execution_count": 44,
   "metadata": {},
   "outputs": [],
   "source": [
    "model = joblib.load('xgboost_model1.pkl')"
   ]
  },
  {
   "cell_type": "code",
   "execution_count": 45,
   "metadata": {},
   "outputs": [],
   "source": [
    "import numpy as np"
   ]
  },
  {
   "cell_type": "code",
   "execution_count": 46,
   "metadata": {},
   "outputs": [
    {
     "name": "stdout",
     "output_type": "stream",
     "text": [
      "Accuracy: 0.20163390166919887\n"
     ]
    }
   ],
   "source": [
    "predictions = model.predict(x_test)\n",
    "\n",
    "# Calculate accuracy\n",
    "accuracy = accuracy_score(y_test, predictions)\n",
    "print(\"Accuracy:\", accuracy)"
   ]
  },
  {
   "cell_type": "code",
   "execution_count": 47,
   "metadata": {},
   "outputs": [
    {
     "name": "stdout",
     "output_type": "stream",
     "text": [
      "Accuracy: 0.20163390166919887\n",
      "Classification Report:\n",
      "              precision    recall  f1-score   support\n",
      "\n",
      "           0       0.00      1.00      0.00         0\n",
      "           1       1.00      0.20      0.34   2345796\n",
      "\n",
      "    accuracy                           0.20   2345796\n",
      "   macro avg       0.50      0.60      0.17   2345796\n",
      "weighted avg       1.00      0.20      0.34   2345796\n",
      "\n"
     ]
    },
    {
     "data": {
      "image/png": "[encoded data removed]",
      "text/plain": [
       "<Figure size 640x480 with 2 Axes>"
      ]
     },
     "metadata": {},
     "output_type": "display_data"
    }
   ],
   "source": [
    "predictions = model.predict(x_test)\n",
    "y_pred_binary = [1 if pred > 0.6 else 0 for pred in predictions]\n",
    "\n",
    "# Calculate accuracy\n",
    "accuracy = accuracy_score(y_test, y_pred_binary)\n",
    "print(\"Accuracy:\", accuracy)\n",
    "\n",
    "# Print classification report\n",
    "print(\"Classification Report:\")\n",
    "print(classification_report(y_test, y_pred_binary, zero_division=1))\n",
    "\n",
    "# Plot confusion matrix\n",
    "cm = confusion_matrix(y_test, y_pred_binary)\n",
    "sns.heatmap(cm, annot=True, cmap='Blues', fmt='d', xticklabels=['Predicted Negative', 'Predicted Positive'],\n",
    "            yticklabels=['Actual Negative', 'Actual Positive'])\n",
    "plt.xlabel('Predicted Label')\n",
    "plt.ylabel('True Label')\n",
    "plt.title('Confusion Matrix')\n",
    "plt.show()"
   ]
  }
 ],
 "metadata": {
  "kernelspec": {
   "display_name": "tf",
   "language": "python",
   "name": "python3"
  },
  "language_info": {
   "codemirror_mode": {
    "name": "ipython",
    "version": 3
   },
   "file_extension": ".py",
   "mimetype": "text/x-python",
   "name": "python",
   "nbconvert_exporter": "python",
   "pygments_lexer": "ipython3",
   "version": "3.9.18"
  }
 },
 "nbformat": 4,
 "nbformat_minor": 2
}
